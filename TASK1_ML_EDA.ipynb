{
  "cells": [
    {
      "cell_type": "markdown",
      "metadata": {
        "id": "B3_MKZNacYUn"
      },
      "source": [
        "#CODECHEF-VIT RECRUITMENTS 2025"
      ]
    },
    {
      "cell_type": "markdown",
      "metadata": {
        "id": "7UhJgsB8dxRq"
      },
      "source": [
        "# **Step 0: Copy this notebook**\n",
        "\n",
        "Guidelines:\n",
        "\n",
        "*   Make a copy of this notebook in your Google Drive\n",
        "*   \n",
        "Submit the editted colab notebook as your final submission\n",
        "\n"
      ]
    },
    {
      "cell_type": "markdown",
      "metadata": {
        "id": "6lygF1NceMsZ"
      },
      "source": [
        "# **Step 1: Dataset for this task**\n",
        "\n",
        "Guidelines: Download the dataset from the link provided and import it into your notebook\n",
        "\n",
        "Link: https://drive.google.com/file/d/1F65Br7-pkcTZ05d9JG_-qdsKCd_WOyKo/view"
      ]
    },
    {
      "cell_type": "markdown",
      "metadata": {
        "id": "fnkB36rrfeyH"
      },
      "source": [
        "# **Step 2: Import necessary libraries**\n",
        "\n",
        "Guidelines: Import all required libraries here"
      ]
    },
    {
      "cell_type": "code",
      "execution_count": null,
      "metadata": {
        "id": "l74kqAf9iQbL"
      },
      "outputs": [],
      "source": [
        "import numpy as np\n",
        "import pandas as pd\n",
        "import seaborn as sns\n",
        "import matplotlib.pyplot as plt\n",
        "from sklearn.preprocessing import StandardScaler\n",
        "from sklearn.cluster import KMeans\n",
        "from sklearn.preprocessing import LabelEncoder, OneHotEncoder"
      ]
    },
    {
      "cell_type": "markdown",
      "metadata": {
        "id": "IhPMaIHeibVX"
      },
      "source": [
        "# **Step 3: Import Dataset**\n",
        "\n",
        "Guidelines: Import the csv dataset into a dataframe"
      ]
    },
    {
      "cell_type": "code",
      "execution_count": null,
      "metadata": {
        "id": "MRvuoA3a8kte"
      },
      "outputs": [],
      "source": [
        "df = pd.read_csv('customer_data.csv')"
      ]
    },
    {
      "cell_type": "code",
      "execution_count": null,
      "metadata": {
        "id": "rVNtaaJG8q6_"
      },
      "outputs": [],
      "source": [
        "df.head()"
      ]
    },
    {
      "cell_type": "code",
      "execution_count": null,
      "metadata": {
        "id": "apkRpN1p8tbt"
      },
      "outputs": [],
      "source": [
        "df.info()"
      ]
    },
    {
      "cell_type": "code",
      "source": [
        "df.describe() #we get all statistics of all numerical data given below."
      ],
      "metadata": {
        "id": "bropt6pH8K6v"
      },
      "execution_count": null,
      "outputs": []
    },
    {
      "cell_type": "markdown",
      "metadata": {
        "id": "cx2A03MojbH0"
      },
      "source": [
        "# Step 4: Data Cleaning\n",
        "\n",
        "Guidelines: Prepare the data for analysis"
      ]
    },
    {
      "cell_type": "code",
      "execution_count": null,
      "metadata": {
        "id": "D5qNizZ1_Xjs"
      },
      "outputs": [],
      "source": [
        "df.isnull().sum() # there are no null values to be removed"
      ]
    },
    {
      "cell_type": "code",
      "execution_count": null,
      "metadata": {
        "id": "UueANmIm2z8J"
      },
      "outputs": [],
      "source": [
        "df.dropna(inplace=True) #deleting rows with null values"
      ]
    },
    {
      "cell_type": "code",
      "execution_count": null,
      "metadata": {
        "id": "z8rOw0UU_bJw"
      },
      "outputs": [],
      "source": [
        "df.duplicated().sum() #there are no duplicate values in the dataset"
      ]
    },
    {
      "cell_type": "code",
      "execution_count": null,
      "metadata": {
        "id": "yKhJ0bTz3fEg"
      },
      "outputs": [],
      "source": [
        "df = df.drop_duplicates() #dropping duplicated values"
      ]
    },
    {
      "cell_type": "code",
      "execution_count": null,
      "metadata": {
        "id": "Q9wszTDx3vV1"
      },
      "outputs": [],
      "source": [
        "df.shape"
      ]
    },
    {
      "cell_type": "code",
      "source": [
        "education_mapping = {'HighSchool': 0, 'College': 1, 'Bachelor': 2, 'Masters': 3}\n",
        "loyalty_mapping = {'Regular': 0, 'Silver': 1, 'Gold': 2}\n",
        "purchase_frequency_mapping = {'rare': 0, 'occasional': 1, 'frequent': 2}\n",
        "\n",
        "# Apply manual encoding\n",
        "df['education'] = df['education'].map(education_mapping)\n",
        "df['loyalty_status'] = df['loyalty_status'].map(loyalty_mapping)\n",
        "df['purchase_frequency'] = df['purchase_frequency'].map(purchase_frequency_mapping)\n",
        "\n",
        "# Apply Label Encoding to nominal categories\n",
        "label_encoders = {}\n",
        "nominal_features = ['region', 'product_category', 'gender']\n",
        "\n",
        "for col in nominal_features:\n",
        "    le = LabelEncoder()\n",
        "    df[col] = le.fit_transform(df[col])  # Transform categorical values into numbers\n",
        "    label_encoders[col] = le  # Save the encoder for future use\n"
      ],
      "metadata": {
        "collapsed": true,
        "id": "MetFi4kLyO8N"
      },
      "execution_count": null,
      "outputs": []
    },
    {
      "cell_type": "code",
      "source": [
        "print(\"Education Mapping:\", education_mapping)\n",
        "print(\"Loyalty Status Mapping:\", loyalty_mapping)\n",
        "print(\"Purchase Frequency Mapping:\", purchase_frequency_mapping)\n",
        "\n",
        "for col, le in label_encoders.items():\n",
        "    print(f\"{col} Mapping:\")\n",
        "    for i, class_ in enumerate(le.classes_):\n",
        "        print(f\"  {class_} -> {i}\")\n",
        "    print()"
      ],
      "metadata": {
        "id": "21RlVi2l7lNr"
      },
      "execution_count": null,
      "outputs": []
    },
    {
      "cell_type": "code",
      "source": [
        "df.head()"
      ],
      "metadata": {
        "id": "JTf_jrhVye-q"
      },
      "execution_count": null,
      "outputs": []
    },
    {
      "cell_type": "markdown",
      "metadata": {
        "id": "wnYjR_IRjgE4"
      },
      "source": [
        "# Step 5: Analysis\n",
        "\n",
        "Guidelines: Perform your analysis here"
      ]
    },
    {
      "cell_type": "code",
      "execution_count": null,
      "metadata": {
        "id": "L1MPXpusDNsA"
      },
      "outputs": [],
      "source": [
        "sns.set(style=\"whitegrid\")"
      ]
    },
    {
      "cell_type": "markdown",
      "metadata": {
        "id": "QC9oMJXfzml7"
      },
      "source": [
        "Age Distribution"
      ]
    },
    {
      "cell_type": "code",
      "execution_count": null,
      "metadata": {
        "id": "LGM7rInAxOso"
      },
      "outputs": [],
      "source": [
        "plt.figure(figsize=(6,4))\n",
        "sns.histplot(df['age'], bins=20, kde=True, color='blue')\n",
        "plt.title(\"Age Distribution\")\n",
        "plt.show()"
      ]
    },
    {
      "cell_type": "markdown",
      "metadata": {
        "id": "76JAQjlIzpuY"
      },
      "source": [
        "Income Distribution"
      ]
    },
    {
      "cell_type": "code",
      "execution_count": null,
      "metadata": {
        "id": "mUHJN-IQxl84"
      },
      "outputs": [],
      "source": [
        "plt.figure(figsize=(6, 4))\n",
        "sns.histplot(df['income'], bins=20, kde=True, color='green')\n",
        "plt.title(\"Income Distribution\")\n",
        "plt.show()"
      ]
    },
    {
      "cell_type": "markdown",
      "metadata": {
        "id": "ur5seuJdzsPR"
      },
      "source": [
        "Purchase Amount Distribution"
      ]
    },
    {
      "cell_type": "code",
      "execution_count": null,
      "metadata": {
        "id": "n4Klm2gBx1UN"
      },
      "outputs": [],
      "source": [
        "plt.figure(figsize=(6, 4))\n",
        "sns.histplot(df['purchase_amount'], bins=20, kde=True, color='purple')\n",
        "plt.title(\"Purchase Amount Distribution\")\n",
        "plt.show()"
      ]
    },
    {
      "cell_type": "markdown",
      "metadata": {
        "id": "1laytryOzxZJ"
      },
      "source": [
        "Box plot for income"
      ]
    },
    {
      "cell_type": "code",
      "execution_count": null,
      "metadata": {
        "id": "GOWzHyz9x7Ca"
      },
      "outputs": [],
      "source": [
        "plt.figure(figsize=(6,4))\n",
        "sns.boxplot(x=df['income'], color='red')\n",
        "plt.title(\"Income Box Plot\")"
      ]
    },
    {
      "cell_type": "code",
      "execution_count": null,
      "metadata": {
        "id": "TeGVpKN6z6bS"
      },
      "outputs": [],
      "source": [
        "plt.figure(figsize=(6,4))\n",
        "sns.boxplot(x=df['purchase_amount'], color='yellow')\n",
        "plt.title(\"Purchase Amount Box Plot\")"
      ]
    },
    {
      "cell_type": "code",
      "execution_count": null,
      "metadata": {
        "id": "LZ1b8QZZ0E92"
      },
      "outputs": [],
      "source": [
        "x = df[['income', 'purchase_amount']]"
      ]
    },
    {
      "cell_type": "code",
      "execution_count": null,
      "metadata": {
        "id": "qazPH2S313gK"
      },
      "outputs": [],
      "source": [
        "scaler = StandardScaler()\n",
        "x_scaled = scaler.fit_transform(x)"
      ]
    },
    {
      "cell_type": "code",
      "execution_count": null,
      "metadata": {
        "id": "vIzzO8kL17kQ"
      },
      "outputs": [],
      "source": [
        "inertia = []\n",
        "k_range = range(1, 11)\n",
        "\n",
        "for k in k_range:\n",
        "    kmeans = KMeans(n_clusters=k, random_state=42, n_init=10)\n",
        "    kmeans.fit(x_scaled)\n",
        "    inertia.append(kmeans.inertia_)\n",
        "\n",
        "# Plot the Elbow Curve\n",
        "plt.figure(figsize=(8, 5))\n",
        "plt.plot(k_range, inertia, marker='o', linestyle='--', color='blue')\n",
        "plt.xlabel('Number of Clusters (k)')\n",
        "plt.ylabel('Inertia (WCSS)')\n",
        "plt.title('Elbow Method for Optimal k')\n",
        "plt.show()"
      ]
    },
    {
      "cell_type": "code",
      "execution_count": null,
      "metadata": {
        "id": "cEHXzjnL1__n"
      },
      "outputs": [],
      "source": [
        "optimal_k = 3\n",
        "kmeans = KMeans(n_clusters=optimal_k, random_state=42, n_init=10)\n",
        "df['Cluster'] = kmeans.fit_predict(x_scaled)"
      ]
    },
    {
      "cell_type": "code",
      "execution_count": null,
      "metadata": {
        "id": "spVc6kC22MLC"
      },
      "outputs": [],
      "source": [
        "plt.figure(figsize=(8, 6))\n",
        "sns.scatterplot(x=df['income'], y=df['purchase_amount'], hue=df['Cluster'], palette='viridis', s=100)\n",
        "plt.title(\"Customer Segmentation Based on Spending Habits\")\n",
        "plt.xlabel(\"Income\")\n",
        "plt.ylabel(\"Purchase Amount\")\n",
        "plt.legend(title=\"Cluster\")\n",
        "plt.show()"
      ]
    },
    {
      "cell_type": "code",
      "execution_count": null,
      "metadata": {
        "id": "O79-88Rc3SSL"
      },
      "outputs": [],
      "source": [
        "cluster_summary = df.groupby(\"Cluster\")[[\"income\", \"purchase_amount\"]].mean()\n",
        "print(cluster_summary)"
      ]
    },
    {
      "cell_type": "code",
      "execution_count": null,
      "metadata": {
        "id": "lSmly0cz3WTU"
      },
      "outputs": [],
      "source": [
        "plt.figure(figsize=(8, 5))\n",
        "sns.countplot(x=df['product_category'], order=df['product_category'].value_counts().index, palette=\"coolwarm\")\n",
        "plt.title(\"Product Category Distribution\")\n",
        "plt.xlabel(\"Product Category\")\n",
        "plt.ylabel(\"Count\")\n",
        "plt.xticks(rotation=45)\n",
        "plt.show()"
      ]
    },
    {
      "cell_type": "code",
      "execution_count": null,
      "metadata": {
        "id": "NyzukXcD4hzu"
      },
      "outputs": [],
      "source": [
        "plt.figure(figsize=(7, 7))\n",
        "df['product_category'].value_counts().plot.pie(autopct='%1.1f%%', colors=sns.color_palette('coolwarm'))\n",
        "plt.title(\"Product Category Distribution\")\n",
        "plt.ylabel(\"\")\n",
        "plt.show()"
      ]
    },
    {
      "cell_type": "code",
      "execution_count": null,
      "metadata": {
        "id": "EVsvWaA05eRI"
      },
      "outputs": [],
      "source": [
        "plt.figure(figsize=(10, 6))\n",
        "sns.heatmap(correlation_matrix, annot=True, cmap='coolwarm', fmt=\".2f\", linewidths=0.5)\n",
        "plt.title(\"Correlation Heatmap (With Encoded Categorical Data)\")\n",
        "plt.show()"
      ]
    },
    {
      "cell_type": "markdown",
      "source": [
        "# Step 6: Results and Inferences\n",
        "Guidelines: List out your inferences here"
      ],
      "metadata": {
        "id": "QKKyGktFvOUK"
      }
    },
    {
      "cell_type": "markdown",
      "source": [
        "**Heatmap Inference**\n",
        "\n",
        "*   Strong Positive Correlation(0.95) between income and purchase_amount\n",
        "*   Moderate Positive Correlation (0.46) between income and cluster\n",
        "\n",
        "*   No significant relation between satisfaction_score and any feature\n",
        "*   Similarly loyalty status has weak correlations and gender has no correlations to other features.\n",
        "\n",
        "**Histograms**\n",
        "\n",
        "\n",
        "*   Age distributions shows normal distributions with a slight skew\n",
        "*   Right-skewed, meaning a few customers have very high incomes, i.e, most customers are mid-income range and only few high-value customers contribute to significant total revenue.\n",
        "\n",
        "**Box Plot**\n",
        "\n",
        "\n",
        "*   Income vs. Purchase Amount: A few customers spend much more than average.\n",
        "*   Purchase Frequency vs. Purchase Amount: Frequent buyers tend to spend more.\n",
        "\n",
        "*   There are clear outliers in spending (likely luxury shoppers).\n",
        "\n",
        "**Customer Segmentation (Clustering using KMeans)**\n",
        "\n",
        "*   Cluster 0: Low spenders (probably budget conscious)\n",
        "*   Cluster 1: Mid level spenders (occasional buyers)\n",
        "*   Cluster 2: High-value customers (loyal, frequent_buyers)\n",
        "*   Majority fall into mid-level spenders.\n",
        "\n",
        "\n",
        "\n",
        "**Product Category Insights (Bar Chart/Pie Chart)**\n",
        "\n",
        "\n",
        "*   Top Categories: Clothing, Electronics and Food\n",
        "*   Least Popular: Beauty and Books.\n",
        "\n",
        "\n",
        "\n",
        "\n",
        "\n",
        "\n",
        "\n",
        "\n",
        "\n",
        "\n",
        "\n",
        "\n",
        "\n",
        "\n",
        "\n"
      ],
      "metadata": {
        "id": "xC1u-8jJ8b54"
      }
    }
  ],
  "metadata": {
    "colab": {
      "provenance": []
    },
    "kernelspec": {
      "display_name": "Python 3",
      "name": "python3"
    },
    "language_info": {
      "name": "python"
    }
  },
  "nbformat": 4,
  "nbformat_minor": 0
}